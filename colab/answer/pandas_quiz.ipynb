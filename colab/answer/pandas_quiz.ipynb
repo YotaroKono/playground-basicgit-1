{
  "cells": [
    {
      "cell_type": "markdown",
      "metadata": {
        "id": "XfmMtuxKYRoO"
      },
      "source": [
        "# Pandas確認課題\n",
        "\n",
        "このPandas確認問題は、データサイエンス100本ノックの問題で最低限必要な問題を抜粋したものです。"
      ]
    },
    {
      "cell_type": "markdown",
      "metadata": {
        "id": "9ktBdoeha1jL"
      },
      "source": [
        "## 必要モジュールのインポート\n",
        "\n",
        "この問題で使うモジュールをインポートします．"
      ]
    },
    {
      "cell_type": "code",
      "execution_count": 1,
      "metadata": {
        "id": "2IhABxEEaq19"
      },
      "outputs": [],
      "source": [
        "import pandas as pd\n",
        "import numpy as np"
      ]
    },
    {
      "cell_type": "markdown",
      "metadata": {
        "id": "llLJCZTEa5Rb"
      },
      "source": [
        "## データの読み込み"
      ]
    },
    {
      "cell_type": "code",
      "execution_count": 2,
      "metadata": {
        "id": "uN-SvpE_a50E"
      },
      "outputs": [],
      "source": [
        "df_customer = pd.read_csv('https://raw.githubusercontent.com/The-Japan-DataScientist-Society/100knocks-preprocess/master/docker/work/data/customer.csv')\n",
        "df_product = pd.read_csv('https://raw.githubusercontent.com/The-Japan-DataScientist-Society/100knocks-preprocess/master/docker/work/data/product.csv')\n",
        "df_receipt = pd.read_csv('https://raw.githubusercontent.com/The-Japan-DataScientist-Society/100knocks-preprocess/master/docker/work/data/receipt.csv')"
      ]
    },
    {
      "cell_type": "markdown",
      "metadata": {
        "id": "xm5FMZJobU3Y"
      },
      "source": [
        "---\n",
        "## 問1. 条件抽出\n",
        "> P-006: レシート明細データフレーム「df_receipt」から売上日（sales_ymd）、顧客ID（customer_id）、商品コード（product_cd）、売上数量（quantity）、売上金額（amount）の順に列を指定し、以下の条件を満たすデータを抽出せよ。\n",
        "> - 顧客ID（customer_id）が\"CS018205000001\"\n",
        "> - 売上金額（amount）が1,000以上または売上数量（quantity）が5以上"
      ]
    },
    {
      "cell_type": "code",
      "execution_count": 25,
      "metadata": {
        "id": "KSOu6AWabVaD"
      },
      "outputs": [
        {
          "data": {
            "text/html": [
              "<div>\n",
              "<style scoped>\n",
              "    .dataframe tbody tr th:only-of-type {\n",
              "        vertical-align: middle;\n",
              "    }\n",
              "\n",
              "    .dataframe tbody tr th {\n",
              "        vertical-align: top;\n",
              "    }\n",
              "\n",
              "    .dataframe thead th {\n",
              "        text-align: right;\n",
              "    }\n",
              "</style>\n",
              "<table border=\"1\" class=\"dataframe\">\n",
              "  <thead>\n",
              "    <tr style=\"text-align: right;\">\n",
              "      <th></th>\n",
              "      <th>sales_ymd</th>\n",
              "      <th>customer_id</th>\n",
              "      <th>product_cd</th>\n",
              "      <th>quantity</th>\n",
              "      <th>amount</th>\n",
              "    </tr>\n",
              "  </thead>\n",
              "  <tbody>\n",
              "    <tr>\n",
              "      <th>36</th>\n",
              "      <td>20180911</td>\n",
              "      <td>CS018205000001</td>\n",
              "      <td>P071401012</td>\n",
              "      <td>1</td>\n",
              "      <td>2200</td>\n",
              "    </tr>\n",
              "    <tr>\n",
              "      <th>9843</th>\n",
              "      <td>20180414</td>\n",
              "      <td>CS018205000001</td>\n",
              "      <td>P060104007</td>\n",
              "      <td>6</td>\n",
              "      <td>600</td>\n",
              "    </tr>\n",
              "    <tr>\n",
              "      <th>21110</th>\n",
              "      <td>20170614</td>\n",
              "      <td>CS018205000001</td>\n",
              "      <td>P050206001</td>\n",
              "      <td>5</td>\n",
              "      <td>990</td>\n",
              "    </tr>\n",
              "    <tr>\n",
              "      <th>27673</th>\n",
              "      <td>20170614</td>\n",
              "      <td>CS018205000001</td>\n",
              "      <td>P060702015</td>\n",
              "      <td>1</td>\n",
              "      <td>108</td>\n",
              "    </tr>\n",
              "    <tr>\n",
              "      <th>27840</th>\n",
              "      <td>20190216</td>\n",
              "      <td>CS018205000001</td>\n",
              "      <td>P071005024</td>\n",
              "      <td>1</td>\n",
              "      <td>102</td>\n",
              "    </tr>\n",
              "    <tr>\n",
              "      <th>28757</th>\n",
              "      <td>20180414</td>\n",
              "      <td>CS018205000001</td>\n",
              "      <td>P071101002</td>\n",
              "      <td>1</td>\n",
              "      <td>278</td>\n",
              "    </tr>\n",
              "    <tr>\n",
              "      <th>39256</th>\n",
              "      <td>20190226</td>\n",
              "      <td>CS018205000001</td>\n",
              "      <td>P070902035</td>\n",
              "      <td>1</td>\n",
              "      <td>168</td>\n",
              "    </tr>\n",
              "    <tr>\n",
              "      <th>58121</th>\n",
              "      <td>20190924</td>\n",
              "      <td>CS018205000001</td>\n",
              "      <td>P060805001</td>\n",
              "      <td>1</td>\n",
              "      <td>495</td>\n",
              "    </tr>\n",
              "    <tr>\n",
              "      <th>68117</th>\n",
              "      <td>20190226</td>\n",
              "      <td>CS018205000001</td>\n",
              "      <td>P071401020</td>\n",
              "      <td>1</td>\n",
              "      <td>2200</td>\n",
              "    </tr>\n",
              "    <tr>\n",
              "      <th>72254</th>\n",
              "      <td>20180911</td>\n",
              "      <td>CS018205000001</td>\n",
              "      <td>P071401005</td>\n",
              "      <td>1</td>\n",
              "      <td>1100</td>\n",
              "    </tr>\n",
              "    <tr>\n",
              "      <th>88508</th>\n",
              "      <td>20190216</td>\n",
              "      <td>CS018205000001</td>\n",
              "      <td>P040101002</td>\n",
              "      <td>1</td>\n",
              "      <td>218</td>\n",
              "    </tr>\n",
              "    <tr>\n",
              "      <th>91525</th>\n",
              "      <td>20190924</td>\n",
              "      <td>CS018205000001</td>\n",
              "      <td>P091503001</td>\n",
              "      <td>1</td>\n",
              "      <td>280</td>\n",
              "    </tr>\n",
              "  </tbody>\n",
              "</table>\n",
              "</div>"
            ],
            "text/plain": [
              "       sales_ymd     customer_id  product_cd  quantity  amount\n",
              "36      20180911  CS018205000001  P071401012         1    2200\n",
              "9843    20180414  CS018205000001  P060104007         6     600\n",
              "21110   20170614  CS018205000001  P050206001         5     990\n",
              "27673   20170614  CS018205000001  P060702015         1     108\n",
              "27840   20190216  CS018205000001  P071005024         1     102\n",
              "28757   20180414  CS018205000001  P071101002         1     278\n",
              "39256   20190226  CS018205000001  P070902035         1     168\n",
              "58121   20190924  CS018205000001  P060805001         1     495\n",
              "68117   20190226  CS018205000001  P071401020         1    2200\n",
              "72254   20180911  CS018205000001  P071401005         1    1100\n",
              "88508   20190216  CS018205000001  P040101002         1     218\n",
              "91525   20190924  CS018205000001  P091503001         1     280"
            ]
          },
          "execution_count": 25,
          "metadata": {},
          "output_type": "execute_result"
        }
      ],
      "source": [
        "df_receipt = df_receipt.loc[:, [\"sales_ymd\", \"customer_id\", \"product_cd\", \"quantity\", \"amount\"]]\n",
        "df_receipt_1 = df_receipt[df_receipt[\"customer_id\"] == \"CS018205000001\" ]\n",
        "df_receipt_1"
      ]
    },
    {
      "cell_type": "code",
      "execution_count": 26,
      "metadata": {},
      "outputs": [
        {
          "data": {
            "text/html": [
              "<div>\n",
              "<style scoped>\n",
              "    .dataframe tbody tr th:only-of-type {\n",
              "        vertical-align: middle;\n",
              "    }\n",
              "\n",
              "    .dataframe tbody tr th {\n",
              "        vertical-align: top;\n",
              "    }\n",
              "\n",
              "    .dataframe thead th {\n",
              "        text-align: right;\n",
              "    }\n",
              "</style>\n",
              "<table border=\"1\" class=\"dataframe\">\n",
              "  <thead>\n",
              "    <tr style=\"text-align: right;\">\n",
              "      <th></th>\n",
              "      <th>sales_ymd</th>\n",
              "      <th>customer_id</th>\n",
              "      <th>product_cd</th>\n",
              "      <th>quantity</th>\n",
              "      <th>amount</th>\n",
              "    </tr>\n",
              "  </thead>\n",
              "  <tbody>\n",
              "    <tr>\n",
              "      <th>17</th>\n",
              "      <td>20181225</td>\n",
              "      <td>ZZ000000000000</td>\n",
              "      <td>P071401002</td>\n",
              "      <td>1</td>\n",
              "      <td>1100</td>\n",
              "    </tr>\n",
              "    <tr>\n",
              "      <th>36</th>\n",
              "      <td>20180911</td>\n",
              "      <td>CS018205000001</td>\n",
              "      <td>P071401012</td>\n",
              "      <td>1</td>\n",
              "      <td>2200</td>\n",
              "    </tr>\n",
              "    <tr>\n",
              "      <th>40</th>\n",
              "      <td>20170501</td>\n",
              "      <td>CS004415000232</td>\n",
              "      <td>P090301078</td>\n",
              "      <td>1</td>\n",
              "      <td>1880</td>\n",
              "    </tr>\n",
              "    <tr>\n",
              "      <th>73</th>\n",
              "      <td>20170523</td>\n",
              "      <td>CS028415000203</td>\n",
              "      <td>P071401019</td>\n",
              "      <td>1</td>\n",
              "      <td>2200</td>\n",
              "    </tr>\n",
              "    <tr>\n",
              "      <th>75</th>\n",
              "      <td>20180310</td>\n",
              "      <td>ZZ000000000000</td>\n",
              "      <td>P071401002</td>\n",
              "      <td>1</td>\n",
              "      <td>1100</td>\n",
              "    </tr>\n",
              "    <tr>\n",
              "      <th>...</th>\n",
              "      <td>...</td>\n",
              "      <td>...</td>\n",
              "      <td>...</td>\n",
              "      <td>...</td>\n",
              "      <td>...</td>\n",
              "    </tr>\n",
              "    <tr>\n",
              "      <th>104622</th>\n",
              "      <td>20170801</td>\n",
              "      <td>CS017515000174</td>\n",
              "      <td>P090701080</td>\n",
              "      <td>1</td>\n",
              "      <td>1280</td>\n",
              "    </tr>\n",
              "    <tr>\n",
              "      <th>104656</th>\n",
              "      <td>20170730</td>\n",
              "      <td>CS005515000093</td>\n",
              "      <td>P071401018</td>\n",
              "      <td>1</td>\n",
              "      <td>2200</td>\n",
              "    </tr>\n",
              "    <tr>\n",
              "      <th>104662</th>\n",
              "      <td>20191024</td>\n",
              "      <td>CS011411000001</td>\n",
              "      <td>P071401001</td>\n",
              "      <td>1</td>\n",
              "      <td>1100</td>\n",
              "    </tr>\n",
              "    <tr>\n",
              "      <th>104666</th>\n",
              "      <td>20170330</td>\n",
              "      <td>CS017411000016</td>\n",
              "      <td>P071401013</td>\n",
              "      <td>1</td>\n",
              "      <td>2200</td>\n",
              "    </tr>\n",
              "    <tr>\n",
              "      <th>104669</th>\n",
              "      <td>20190726</td>\n",
              "      <td>CS006615000114</td>\n",
              "      <td>P071301002</td>\n",
              "      <td>1</td>\n",
              "      <td>2485</td>\n",
              "    </tr>\n",
              "  </tbody>\n",
              "</table>\n",
              "<p>8451 rows × 5 columns</p>\n",
              "</div>"
            ],
            "text/plain": [
              "        sales_ymd     customer_id  product_cd  quantity  amount\n",
              "17       20181225  ZZ000000000000  P071401002         1    1100\n",
              "36       20180911  CS018205000001  P071401012         1    2200\n",
              "40       20170501  CS004415000232  P090301078         1    1880\n",
              "73       20170523  CS028415000203  P071401019         1    2200\n",
              "75       20180310  ZZ000000000000  P071401002         1    1100\n",
              "...           ...             ...         ...       ...     ...\n",
              "104622   20170801  CS017515000174  P090701080         1    1280\n",
              "104656   20170730  CS005515000093  P071401018         1    2200\n",
              "104662   20191024  CS011411000001  P071401001         1    1100\n",
              "104666   20170330  CS017411000016  P071401013         1    2200\n",
              "104669   20190726  CS006615000114  P071301002         1    2485\n",
              "\n",
              "[8451 rows x 5 columns]"
            ]
          },
          "execution_count": 26,
          "metadata": {},
          "output_type": "execute_result"
        }
      ],
      "source": [
        "df_receipt_2 = df_receipt[(df_receipt[\"amount\"] >= 1000) | (df_receipt[\"quantity\"] >= 5)]\n",
        "df_receipt_2"
      ]
    },
    {
      "cell_type": "markdown",
      "metadata": {
        "id": "7WsKq3Voj0LF"
      },
      "source": [
        "---\n",
        "## 問2. ソート\n",
        "> P-18: 顧客データフレーム（df_customer）を生年月日（birth_day）で若い順にソートし、先頭5件を全項目表示せよ。"
      ]
    },
    {
      "cell_type": "code",
      "execution_count": 4,
      "metadata": {
        "colab": {
          "base_uri": "https://localhost:8080/",
          "height": 302
        },
        "id": "uLdYmXgdjxaw",
        "outputId": "5e87a5ee-4683-47b3-ec40-47a8a7cbc0e4"
      },
      "outputs": [
        {
          "data": {
            "text/html": [
              "<div>\n",
              "<style scoped>\n",
              "    .dataframe tbody tr th:only-of-type {\n",
              "        vertical-align: middle;\n",
              "    }\n",
              "\n",
              "    .dataframe tbody tr th {\n",
              "        vertical-align: top;\n",
              "    }\n",
              "\n",
              "    .dataframe thead th {\n",
              "        text-align: right;\n",
              "    }\n",
              "</style>\n",
              "<table border=\"1\" class=\"dataframe\">\n",
              "  <thead>\n",
              "    <tr style=\"text-align: right;\">\n",
              "      <th></th>\n",
              "      <th>customer_id</th>\n",
              "      <th>customer_name</th>\n",
              "      <th>gender_cd</th>\n",
              "      <th>gender</th>\n",
              "      <th>birth_day</th>\n",
              "      <th>age</th>\n",
              "      <th>postal_cd</th>\n",
              "      <th>address</th>\n",
              "      <th>application_store_cd</th>\n",
              "      <th>application_date</th>\n",
              "      <th>status_cd</th>\n",
              "    </tr>\n",
              "  </thead>\n",
              "  <tbody>\n",
              "    <tr>\n",
              "      <th>0</th>\n",
              "      <td>CS021313000114</td>\n",
              "      <td>大野 あや子</td>\n",
              "      <td>1</td>\n",
              "      <td>女性</td>\n",
              "      <td>1981-04-29</td>\n",
              "      <td>37</td>\n",
              "      <td>259-1113</td>\n",
              "      <td>神奈川県伊勢原市粟窪**********</td>\n",
              "      <td>S14021</td>\n",
              "      <td>20150905</td>\n",
              "      <td>0-00000000-0</td>\n",
              "    </tr>\n",
              "    <tr>\n",
              "      <th>1</th>\n",
              "      <td>CS037613000071</td>\n",
              "      <td>六角 雅彦</td>\n",
              "      <td>9</td>\n",
              "      <td>不明</td>\n",
              "      <td>1952-04-01</td>\n",
              "      <td>66</td>\n",
              "      <td>136-0076</td>\n",
              "      <td>東京都江東区南砂**********</td>\n",
              "      <td>S13037</td>\n",
              "      <td>20150414</td>\n",
              "      <td>0-00000000-0</td>\n",
              "    </tr>\n",
              "    <tr>\n",
              "      <th>2</th>\n",
              "      <td>CS031415000172</td>\n",
              "      <td>宇多田 貴美子</td>\n",
              "      <td>1</td>\n",
              "      <td>女性</td>\n",
              "      <td>1976-10-04</td>\n",
              "      <td>42</td>\n",
              "      <td>151-0053</td>\n",
              "      <td>東京都渋谷区代々木**********</td>\n",
              "      <td>S13031</td>\n",
              "      <td>20150529</td>\n",
              "      <td>D-20100325-C</td>\n",
              "    </tr>\n",
              "    <tr>\n",
              "      <th>3</th>\n",
              "      <td>CS028811000001</td>\n",
              "      <td>堀井 かおり</td>\n",
              "      <td>1</td>\n",
              "      <td>女性</td>\n",
              "      <td>1933-03-27</td>\n",
              "      <td>86</td>\n",
              "      <td>245-0016</td>\n",
              "      <td>神奈川県横浜市泉区和泉町**********</td>\n",
              "      <td>S14028</td>\n",
              "      <td>20160115</td>\n",
              "      <td>0-00000000-0</td>\n",
              "    </tr>\n",
              "    <tr>\n",
              "      <th>4</th>\n",
              "      <td>CS001215000145</td>\n",
              "      <td>田崎 美紀</td>\n",
              "      <td>1</td>\n",
              "      <td>女性</td>\n",
              "      <td>1995-03-29</td>\n",
              "      <td>24</td>\n",
              "      <td>144-0055</td>\n",
              "      <td>東京都大田区仲六郷**********</td>\n",
              "      <td>S13001</td>\n",
              "      <td>20170605</td>\n",
              "      <td>6-20090929-2</td>\n",
              "    </tr>\n",
              "  </tbody>\n",
              "</table>\n",
              "</div>"
            ],
            "text/plain": [
              "      customer_id customer_name  gender_cd gender   birth_day  age postal_cd  \\\n",
              "0  CS021313000114        大野 あや子          1     女性  1981-04-29   37  259-1113   \n",
              "1  CS037613000071         六角 雅彦          9     不明  1952-04-01   66  136-0076   \n",
              "2  CS031415000172       宇多田 貴美子          1     女性  1976-10-04   42  151-0053   \n",
              "3  CS028811000001        堀井 かおり          1     女性  1933-03-27   86  245-0016   \n",
              "4  CS001215000145         田崎 美紀          1     女性  1995-03-29   24  144-0055   \n",
              "\n",
              "                  address application_store_cd  application_date     status_cd  \n",
              "0    神奈川県伊勢原市粟窪**********               S14021          20150905  0-00000000-0  \n",
              "1      東京都江東区南砂**********               S13037          20150414  0-00000000-0  \n",
              "2     東京都渋谷区代々木**********               S13031          20150529  D-20100325-C  \n",
              "3  神奈川県横浜市泉区和泉町**********               S14028          20160115  0-00000000-0  \n",
              "4     東京都大田区仲六郷**********               S13001          20170605  6-20090929-2  "
            ]
          },
          "execution_count": 4,
          "metadata": {},
          "output_type": "execute_result"
        }
      ],
      "source": [
        "df_customer.sort_values(\"birth_day\", ascending=False)\n",
        "df_customer.head(5)"
      ]
    },
    {
      "cell_type": "markdown",
      "metadata": {
        "id": "1lRGtDSphhyQ"
      },
      "source": [
        "---\n",
        "## 問3. 全件数\n",
        "> P-021: レシート明細データフレーム（df_receipt）に対し、件数をカウントせよ。"
      ]
    },
    {
      "cell_type": "code",
      "execution_count": 5,
      "metadata": {
        "colab": {
          "base_uri": "https://localhost:8080/"
        },
        "id": "m-ihL_fVhhyQ",
        "outputId": "72d74ed8-4c24-40fb-94e5-9bc4c9cf6257"
      },
      "outputs": [
        {
          "data": {
            "text/plain": [
              "104681"
            ]
          },
          "execution_count": 5,
          "metadata": {},
          "output_type": "execute_result"
        }
      ],
      "source": [
        "len(df_receipt)"
      ]
    },
    {
      "cell_type": "markdown",
      "metadata": {
        "id": "MkjDW-oyhhyS"
      },
      "source": [
        "## 問4. ユニーク件数\n",
        "> P-022: レシート明細データフレーム（df_receipt）の顧客ID（customer_id）に対し、ユニーク件数をカウントせよ。"
      ]
    },
    {
      "cell_type": "code",
      "execution_count": 6,
      "metadata": {
        "colab": {
          "base_uri": "https://localhost:8080/"
        },
        "id": "0xSI9r8UhhyS",
        "outputId": "48ce9de2-37b2-4de6-8d26-4c94859d1ff9"
      },
      "outputs": [
        {
          "data": {
            "text/plain": [
              "8307"
            ]
          },
          "execution_count": 6,
          "metadata": {},
          "output_type": "execute_result"
        }
      ],
      "source": [
        "len(df_receipt[\"customer_id\"].unique())"
      ]
    },
    {
      "cell_type": "markdown",
      "metadata": {
        "id": "h9E9b_yUhhyq"
      },
      "source": [
        "---\n",
        "## 問5. 〇〇ごとに集計\n",
        "> P-035: レシート明細データフレーム（df_receipt）に対し、顧客ID（customer_id）ごとに売上金額（amount）を合計して全顧客の平均を求め、平均以上に買い物をしている顧客を抽出せよ。ただし、顧客IDが\"Z\"から始まるのものは非会員を表すため、除外して計算すること。なお、データは先頭5件だけ表示せよ。\n",
        "\n",
        "会員のみを抽出する方法は、例えば以下の2通りの方法があります。"
      ]
    },
    {
      "cell_type": "code",
      "execution_count": 7,
      "metadata": {
        "colab": {
          "base_uri": "https://localhost:8080/",
          "height": 424
        },
        "id": "jMbZ8_n1eTew",
        "outputId": "98dae97c-9753-46aa-86e7-81daae612be2"
      },
      "outputs": [
        {
          "data": {
            "text/html": [
              "<div>\n",
              "<style scoped>\n",
              "    .dataframe tbody tr th:only-of-type {\n",
              "        vertical-align: middle;\n",
              "    }\n",
              "\n",
              "    .dataframe tbody tr th {\n",
              "        vertical-align: top;\n",
              "    }\n",
              "\n",
              "    .dataframe thead th {\n",
              "        text-align: right;\n",
              "    }\n",
              "</style>\n",
              "<table border=\"1\" class=\"dataframe\">\n",
              "  <thead>\n",
              "    <tr style=\"text-align: right;\">\n",
              "      <th></th>\n",
              "      <th>sales_ymd</th>\n",
              "      <th>customer_id</th>\n",
              "      <th>product_cd</th>\n",
              "      <th>quantity</th>\n",
              "      <th>amount</th>\n",
              "    </tr>\n",
              "  </thead>\n",
              "  <tbody>\n",
              "    <tr>\n",
              "      <th>0</th>\n",
              "      <td>20181103</td>\n",
              "      <td>CS006214000001</td>\n",
              "      <td>P070305012</td>\n",
              "      <td>1</td>\n",
              "      <td>158</td>\n",
              "    </tr>\n",
              "    <tr>\n",
              "      <th>1</th>\n",
              "      <td>20181118</td>\n",
              "      <td>CS008415000097</td>\n",
              "      <td>P070701017</td>\n",
              "      <td>1</td>\n",
              "      <td>81</td>\n",
              "    </tr>\n",
              "    <tr>\n",
              "      <th>2</th>\n",
              "      <td>20170712</td>\n",
              "      <td>CS028414000014</td>\n",
              "      <td>P060101005</td>\n",
              "      <td>1</td>\n",
              "      <td>170</td>\n",
              "    </tr>\n",
              "    <tr>\n",
              "      <th>4</th>\n",
              "      <td>20180821</td>\n",
              "      <td>CS025415000050</td>\n",
              "      <td>P060102007</td>\n",
              "      <td>1</td>\n",
              "      <td>90</td>\n",
              "    </tr>\n",
              "    <tr>\n",
              "      <th>5</th>\n",
              "      <td>20190605</td>\n",
              "      <td>CS003515000195</td>\n",
              "      <td>P050102002</td>\n",
              "      <td>1</td>\n",
              "      <td>138</td>\n",
              "    </tr>\n",
              "    <tr>\n",
              "      <th>...</th>\n",
              "      <td>...</td>\n",
              "      <td>...</td>\n",
              "      <td>...</td>\n",
              "      <td>...</td>\n",
              "      <td>...</td>\n",
              "    </tr>\n",
              "    <tr>\n",
              "      <th>104671</th>\n",
              "      <td>20180131</td>\n",
              "      <td>CS010414000008</td>\n",
              "      <td>P060103003</td>\n",
              "      <td>1</td>\n",
              "      <td>150</td>\n",
              "    </tr>\n",
              "    <tr>\n",
              "      <th>104673</th>\n",
              "      <td>20181217</td>\n",
              "      <td>CS004515000066</td>\n",
              "      <td>P059001016</td>\n",
              "      <td>1</td>\n",
              "      <td>308</td>\n",
              "    </tr>\n",
              "    <tr>\n",
              "      <th>104674</th>\n",
              "      <td>20190911</td>\n",
              "      <td>CS046415000017</td>\n",
              "      <td>P070703003</td>\n",
              "      <td>1</td>\n",
              "      <td>98</td>\n",
              "    </tr>\n",
              "    <tr>\n",
              "      <th>104678</th>\n",
              "      <td>20170311</td>\n",
              "      <td>CS040513000195</td>\n",
              "      <td>P050405003</td>\n",
              "      <td>1</td>\n",
              "      <td>168</td>\n",
              "    </tr>\n",
              "    <tr>\n",
              "      <th>104679</th>\n",
              "      <td>20170331</td>\n",
              "      <td>CS002513000049</td>\n",
              "      <td>P060303001</td>\n",
              "      <td>1</td>\n",
              "      <td>148</td>\n",
              "    </tr>\n",
              "  </tbody>\n",
              "</table>\n",
              "<p>65682 rows × 5 columns</p>\n",
              "</div>"
            ],
            "text/plain": [
              "        sales_ymd     customer_id  product_cd  quantity  amount\n",
              "0        20181103  CS006214000001  P070305012         1     158\n",
              "1        20181118  CS008415000097  P070701017         1      81\n",
              "2        20170712  CS028414000014  P060101005         1     170\n",
              "4        20180821  CS025415000050  P060102007         1      90\n",
              "5        20190605  CS003515000195  P050102002         1     138\n",
              "...           ...             ...         ...       ...     ...\n",
              "104671   20180131  CS010414000008  P060103003         1     150\n",
              "104673   20181217  CS004515000066  P059001016         1     308\n",
              "104674   20190911  CS046415000017  P070703003         1      98\n",
              "104678   20170311  CS040513000195  P050405003         1     168\n",
              "104679   20170331  CS002513000049  P060303001         1     148\n",
              "\n",
              "[65682 rows x 5 columns]"
            ]
          },
          "execution_count": 7,
          "metadata": {},
          "output_type": "execute_result"
        }
      ],
      "source": [
        "df_receipt_only_member = df_receipt[~df_receipt[\"customer_id\"].str.startswith(\"Z\")]\n",
        "df_receipt_only_member = df_receipt.query(\"not customer_id.str.startswith('Z')\", engine=\"python\")\n",
        "df_receipt_only_member"
      ]
    },
    {
      "cell_type": "code",
      "execution_count": 8,
      "metadata": {
        "colab": {
          "base_uri": "https://localhost:8080/"
        },
        "id": "NCKd1jde-WvA",
        "outputId": "116accdf-0533-4868-9070-7c43248676c7"
      },
      "outputs": [
        {
          "data": {
            "text/plain": [
              "customer_id\n",
              "CS001115000010    3044\n",
              "CS001205000006    3337\n",
              "CS001214000009    4685\n",
              "CS001214000017    4132\n",
              "CS001214000052    5639\n",
              "Name: amount, dtype: int64"
            ]
          },
          "execution_count": 8,
          "metadata": {},
          "output_type": "execute_result"
        }
      ],
      "source": [
        "df = df_receipt_only_member.groupby(\"customer_id\")\n",
        "x = df[\"amount\"].sum().mean()\n",
        "y = df[\"amount\"].sum()\n",
        "y[y >= x][:5]"
      ]
    },
    {
      "cell_type": "markdown",
      "metadata": {
        "id": "iNO7ESvWhhyw"
      },
      "source": [
        "---\n",
        "## 問6. DataFrameの結合\n",
        "> P-038: 顧客データフレーム（df_customer）とレシート明細データフレーム（df_receipt）から、各顧客ごとの売上金額合計を求めよ。ただし、買い物の実績がない顧客については売上金額を0として表示させること。また、顧客は性別コード（gender_cd）が女性（1）であるものを対象とし、非会員（顧客IDが'Z'から始まるもの）は除外すること。なお、結果は先頭5件だけ表示せよ。"
      ]
    },
    {
      "cell_type": "code",
      "execution_count": 9,
      "metadata": {
        "id": "mzQkCjhoeTex"
      },
      "outputs": [],
      "source": [
        "df_customer_only_member = df_customer[~df_customer[\"customer_id\"].str.startswith(\"Z\")]\n",
        "df_customer_only_member = df_customer.query(\"not customer_id.str.startswith('Z')\", engine=\"python\")"
      ]
    },
    {
      "cell_type": "code",
      "execution_count": 28,
      "metadata": {
        "colab": {
          "base_uri": "https://localhost:8080/",
          "height": 238
        },
        "id": "cS3iwBYsJBzq",
        "outputId": "3ecfa071-4d06-4f78-e53b-8cc47ea49d48"
      },
      "outputs": [
        {
          "data": {
            "text/html": [
              "<div>\n",
              "<style scoped>\n",
              "    .dataframe tbody tr th:only-of-type {\n",
              "        vertical-align: middle;\n",
              "    }\n",
              "\n",
              "    .dataframe tbody tr th {\n",
              "        vertical-align: top;\n",
              "    }\n",
              "\n",
              "    .dataframe thead th {\n",
              "        text-align: right;\n",
              "    }\n",
              "</style>\n",
              "<table border=\"1\" class=\"dataframe\">\n",
              "  <thead>\n",
              "    <tr style=\"text-align: right;\">\n",
              "      <th></th>\n",
              "      <th>amount</th>\n",
              "    </tr>\n",
              "    <tr>\n",
              "      <th>customer_id</th>\n",
              "      <th></th>\n",
              "    </tr>\n",
              "  </thead>\n",
              "  <tbody>\n",
              "    <tr>\n",
              "      <th>CS001112000009</th>\n",
              "      <td>0.0</td>\n",
              "    </tr>\n",
              "    <tr>\n",
              "      <th>CS001112000019</th>\n",
              "      <td>0.0</td>\n",
              "    </tr>\n",
              "    <tr>\n",
              "      <th>CS001112000021</th>\n",
              "      <td>0.0</td>\n",
              "    </tr>\n",
              "    <tr>\n",
              "      <th>CS001112000023</th>\n",
              "      <td>0.0</td>\n",
              "    </tr>\n",
              "    <tr>\n",
              "      <th>CS001112000024</th>\n",
              "      <td>0.0</td>\n",
              "    </tr>\n",
              "  </tbody>\n",
              "</table>\n",
              "</div>"
            ],
            "text/plain": [
              "                amount\n",
              "customer_id           \n",
              "CS001112000009     0.0\n",
              "CS001112000019     0.0\n",
              "CS001112000021     0.0\n",
              "CS001112000023     0.0\n",
              "CS001112000024     0.0"
            ]
          },
          "execution_count": 28,
          "metadata": {},
          "output_type": "execute_result"
        }
      ],
      "source": [
        "df_1 = pd.merge(df_customer_only_member, df_receipt_only_member, on= \"customer_id\", how = \"left\")\n",
        "df_1 = df_1[df_1[\"gender_cd\"] == 1]\n",
        "df_1 = df_1.fillna(0)\n",
        "df_1 = df_1.groupby(\"customer_id\")[[\"amount\"]].sum()\n",
        "df_1[:5]"
      ]
    },
    {
      "cell_type": "markdown",
      "metadata": {
        "id": "umDmd8kohhzA"
      },
      "source": [
        "---\n",
        "## 問7. 時系列データ\n",
        "> P-046: 顧客データフレーム（df_customer）の申し込み日（application_date）はYYYYMMD形式の文字列型でデータを保有している。これを日付型（dateやdatetime）に変換し、顧客ID（customer_id）とともに抽出せよ。なお、データは先頭5件を表示せよ。"
      ]
    },
    {
      "cell_type": "code",
      "execution_count": 11,
      "metadata": {
        "colab": {
          "base_uri": "https://localhost:8080/",
          "height": 337
        },
        "id": "pVAxV-TWhhzA",
        "outputId": "e99b178e-b250-436f-d1b6-1bd33b8e8b63"
      },
      "outputs": [
        {
          "data": {
            "text/html": [
              "<div>\n",
              "<style scoped>\n",
              "    .dataframe tbody tr th:only-of-type {\n",
              "        vertical-align: middle;\n",
              "    }\n",
              "\n",
              "    .dataframe tbody tr th {\n",
              "        vertical-align: top;\n",
              "    }\n",
              "\n",
              "    .dataframe thead th {\n",
              "        text-align: right;\n",
              "    }\n",
              "</style>\n",
              "<table border=\"1\" class=\"dataframe\">\n",
              "  <thead>\n",
              "    <tr style=\"text-align: right;\">\n",
              "      <th></th>\n",
              "      <th>customer_id</th>\n",
              "      <th>customer_name</th>\n",
              "      <th>gender_cd</th>\n",
              "      <th>gender</th>\n",
              "      <th>birth_day</th>\n",
              "      <th>age</th>\n",
              "      <th>postal_cd</th>\n",
              "      <th>address</th>\n",
              "      <th>application_store_cd</th>\n",
              "      <th>application_date</th>\n",
              "      <th>status_cd</th>\n",
              "    </tr>\n",
              "  </thead>\n",
              "  <tbody>\n",
              "    <tr>\n",
              "      <th>0</th>\n",
              "      <td>CS021313000114</td>\n",
              "      <td>大野 あや子</td>\n",
              "      <td>1</td>\n",
              "      <td>女性</td>\n",
              "      <td>1981-04-29</td>\n",
              "      <td>37</td>\n",
              "      <td>259-1113</td>\n",
              "      <td>神奈川県伊勢原市粟窪**********</td>\n",
              "      <td>S14021</td>\n",
              "      <td>1970-01-01 00:00:00.020150905</td>\n",
              "      <td>0-00000000-0</td>\n",
              "    </tr>\n",
              "    <tr>\n",
              "      <th>1</th>\n",
              "      <td>CS037613000071</td>\n",
              "      <td>六角 雅彦</td>\n",
              "      <td>9</td>\n",
              "      <td>不明</td>\n",
              "      <td>1952-04-01</td>\n",
              "      <td>66</td>\n",
              "      <td>136-0076</td>\n",
              "      <td>東京都江東区南砂**********</td>\n",
              "      <td>S13037</td>\n",
              "      <td>1970-01-01 00:00:00.020150414</td>\n",
              "      <td>0-00000000-0</td>\n",
              "    </tr>\n",
              "    <tr>\n",
              "      <th>2</th>\n",
              "      <td>CS031415000172</td>\n",
              "      <td>宇多田 貴美子</td>\n",
              "      <td>1</td>\n",
              "      <td>女性</td>\n",
              "      <td>1976-10-04</td>\n",
              "      <td>42</td>\n",
              "      <td>151-0053</td>\n",
              "      <td>東京都渋谷区代々木**********</td>\n",
              "      <td>S13031</td>\n",
              "      <td>1970-01-01 00:00:00.020150529</td>\n",
              "      <td>D-20100325-C</td>\n",
              "    </tr>\n",
              "    <tr>\n",
              "      <th>3</th>\n",
              "      <td>CS028811000001</td>\n",
              "      <td>堀井 かおり</td>\n",
              "      <td>1</td>\n",
              "      <td>女性</td>\n",
              "      <td>1933-03-27</td>\n",
              "      <td>86</td>\n",
              "      <td>245-0016</td>\n",
              "      <td>神奈川県横浜市泉区和泉町**********</td>\n",
              "      <td>S14028</td>\n",
              "      <td>1970-01-01 00:00:00.020160115</td>\n",
              "      <td>0-00000000-0</td>\n",
              "    </tr>\n",
              "    <tr>\n",
              "      <th>4</th>\n",
              "      <td>CS001215000145</td>\n",
              "      <td>田崎 美紀</td>\n",
              "      <td>1</td>\n",
              "      <td>女性</td>\n",
              "      <td>1995-03-29</td>\n",
              "      <td>24</td>\n",
              "      <td>144-0055</td>\n",
              "      <td>東京都大田区仲六郷**********</td>\n",
              "      <td>S13001</td>\n",
              "      <td>1970-01-01 00:00:00.020170605</td>\n",
              "      <td>6-20090929-2</td>\n",
              "    </tr>\n",
              "  </tbody>\n",
              "</table>\n",
              "</div>"
            ],
            "text/plain": [
              "      customer_id customer_name  gender_cd gender   birth_day  age postal_cd  \\\n",
              "0  CS021313000114        大野 あや子          1     女性  1981-04-29   37  259-1113   \n",
              "1  CS037613000071         六角 雅彦          9     不明  1952-04-01   66  136-0076   \n",
              "2  CS031415000172       宇多田 貴美子          1     女性  1976-10-04   42  151-0053   \n",
              "3  CS028811000001        堀井 かおり          1     女性  1933-03-27   86  245-0016   \n",
              "4  CS001215000145         田崎 美紀          1     女性  1995-03-29   24  144-0055   \n",
              "\n",
              "                  address application_store_cd              application_date  \\\n",
              "0    神奈川県伊勢原市粟窪**********               S14021 1970-01-01 00:00:00.020150905   \n",
              "1      東京都江東区南砂**********               S13037 1970-01-01 00:00:00.020150414   \n",
              "2     東京都渋谷区代々木**********               S13031 1970-01-01 00:00:00.020150529   \n",
              "3  神奈川県横浜市泉区和泉町**********               S14028 1970-01-01 00:00:00.020160115   \n",
              "4     東京都大田区仲六郷**********               S13001 1970-01-01 00:00:00.020170605   \n",
              "\n",
              "      status_cd  \n",
              "0  0-00000000-0  \n",
              "1  0-00000000-0  \n",
              "2  D-20100325-C  \n",
              "3  0-00000000-0  \n",
              "4  6-20090929-2  "
            ]
          },
          "execution_count": 11,
          "metadata": {},
          "output_type": "execute_result"
        }
      ],
      "source": [
        "df_customer[\"application_date\"] = pd.to_datetime(df_customer[\"application_date\"])\n",
        "df_customer[:5]"
      ]
    },
    {
      "cell_type": "markdown",
      "metadata": {
        "id": "9v_q6BLjhhzU"
      },
      "source": [
        "---\n",
        "## 問8. 関数\n",
        "> P-061: レシート明細データフレーム（df_receipt）の売上金額（amount）を顧客ID（customer_id）ごとに合計し、合計した売上金額を常用対数化（底=10）して顧客ID、売上金額合計とともに表示せよ。ただし、顧客IDが\"Z\"から始まるのものは非会員を表すため、除外して計算すること。なお、結果は先頭5件を表示せよ。"
      ]
    },
    {
      "cell_type": "code",
      "execution_count": 12,
      "metadata": {
        "colab": {
          "base_uri": "https://localhost:8080/",
          "height": 238
        },
        "id": "aZQImg5WODhe",
        "outputId": "275bf78d-d9e6-466c-9c03-03f96c700b3c"
      },
      "outputs": [
        {
          "data": {
            "text/html": [
              "<div>\n",
              "<style scoped>\n",
              "    .dataframe tbody tr th:only-of-type {\n",
              "        vertical-align: middle;\n",
              "    }\n",
              "\n",
              "    .dataframe tbody tr th {\n",
              "        vertical-align: top;\n",
              "    }\n",
              "\n",
              "    .dataframe thead th {\n",
              "        text-align: right;\n",
              "    }\n",
              "</style>\n",
              "<table border=\"1\" class=\"dataframe\">\n",
              "  <thead>\n",
              "    <tr style=\"text-align: right;\">\n",
              "      <th></th>\n",
              "      <th>amount</th>\n",
              "      <th>amount_log</th>\n",
              "    </tr>\n",
              "    <tr>\n",
              "      <th>customer_id</th>\n",
              "      <th></th>\n",
              "      <th></th>\n",
              "    </tr>\n",
              "  </thead>\n",
              "  <tbody>\n",
              "    <tr>\n",
              "      <th>CS001113000004</th>\n",
              "      <td>1298</td>\n",
              "      <td>3.113275</td>\n",
              "    </tr>\n",
              "    <tr>\n",
              "      <th>CS001114000005</th>\n",
              "      <td>626</td>\n",
              "      <td>2.796574</td>\n",
              "    </tr>\n",
              "    <tr>\n",
              "      <th>CS001115000010</th>\n",
              "      <td>3044</td>\n",
              "      <td>3.483445</td>\n",
              "    </tr>\n",
              "    <tr>\n",
              "      <th>CS001205000004</th>\n",
              "      <td>1988</td>\n",
              "      <td>3.298416</td>\n",
              "    </tr>\n",
              "    <tr>\n",
              "      <th>CS001205000006</th>\n",
              "      <td>3337</td>\n",
              "      <td>3.523356</td>\n",
              "    </tr>\n",
              "  </tbody>\n",
              "</table>\n",
              "</div>"
            ],
            "text/plain": [
              "                amount  amount_log\n",
              "customer_id                       \n",
              "CS001113000004    1298    3.113275\n",
              "CS001114000005     626    2.796574\n",
              "CS001115000010    3044    3.483445\n",
              "CS001205000004    1988    3.298416\n",
              "CS001205000006    3337    3.523356"
            ]
          },
          "execution_count": 12,
          "metadata": {},
          "output_type": "execute_result"
        }
      ],
      "source": [
        "df_2 = df_receipt.groupby(\"customer_id\")[[\"amount\"]].sum()\n",
        "df_2.assign(amount_log = np.log10(df_2[\"amount\"]))[:5]"
      ]
    },
    {
      "cell_type": "markdown",
      "metadata": {
        "id": "boe923CMhhzq"
      },
      "source": [
        "---\n",
        "## 問9. 欠損数\n",
        "> P-079: 商品データフレーム（df_product）の各項目に対し、欠損数を確認せよ。"
      ]
    },
    {
      "cell_type": "code",
      "execution_count": 13,
      "metadata": {
        "colab": {
          "base_uri": "https://localhost:8080/"
        },
        "id": "bWWOeCx9Vmc0",
        "outputId": "7c49dfa0-38d1-4f09-b83e-f9ebb1f3c056"
      },
      "outputs": [
        {
          "data": {
            "text/plain": [
              "product_cd            0\n",
              "category_major_cd     0\n",
              "category_medium_cd    0\n",
              "category_small_cd     0\n",
              "unit_price            7\n",
              "unit_cost             7\n",
              "dtype: int64"
            ]
          },
          "execution_count": 13,
          "metadata": {},
          "output_type": "execute_result"
        }
      ],
      "source": [
        "df_product.isnull().sum()"
      ]
    },
    {
      "cell_type": "markdown",
      "metadata": {
        "id": "afprSqIvhhzs"
      },
      "source": [
        "---\n",
        "## 問10. 欠損値の除去\n",
        "> P-080: 商品データフレーム（df_product）のいずれかの項目に欠損が発生しているレコードを全て削除した新たなdf_product_1を作成せよ。なお、削除前後の件数を表示させ、前設問で確認した件数だけ減少していることも確認すること。"
      ]
    },
    {
      "cell_type": "code",
      "execution_count": 14,
      "metadata": {
        "id": "q3_9sLdHhhzt"
      },
      "outputs": [],
      "source": [
        "df_product_1 = df_product.dropna()"
      ]
    },
    {
      "cell_type": "code",
      "execution_count": 15,
      "metadata": {
        "colab": {
          "base_uri": "https://localhost:8080/"
        },
        "id": "t2YdhUS1PVvS",
        "outputId": "0e49a5e2-df89-49cd-a49e-990a76748294"
      },
      "outputs": [
        {
          "data": {
            "text/plain": [
              "(10030, 10023)"
            ]
          },
          "execution_count": 15,
          "metadata": {},
          "output_type": "execute_result"
        }
      ],
      "source": [
        "len(df_product), len(df_product_1)"
      ]
    },
    {
      "cell_type": "code",
      "execution_count": 16,
      "metadata": {
        "colab": {
          "base_uri": "https://localhost:8080/",
          "height": 424
        },
        "id": "qFNnYstw1vTG",
        "outputId": "2761f54c-79f9-40bf-8563-730f47e04698"
      },
      "outputs": [
        {
          "data": {
            "text/html": [
              "<div>\n",
              "<style scoped>\n",
              "    .dataframe tbody tr th:only-of-type {\n",
              "        vertical-align: middle;\n",
              "    }\n",
              "\n",
              "    .dataframe tbody tr th {\n",
              "        vertical-align: top;\n",
              "    }\n",
              "\n",
              "    .dataframe thead th {\n",
              "        text-align: right;\n",
              "    }\n",
              "</style>\n",
              "<table border=\"1\" class=\"dataframe\">\n",
              "  <thead>\n",
              "    <tr style=\"text-align: right;\">\n",
              "      <th></th>\n",
              "      <th>product_cd</th>\n",
              "      <th>category_major_cd</th>\n",
              "      <th>category_medium_cd</th>\n",
              "      <th>category_small_cd</th>\n",
              "      <th>unit_price</th>\n",
              "      <th>unit_cost</th>\n",
              "    </tr>\n",
              "  </thead>\n",
              "  <tbody>\n",
              "    <tr>\n",
              "      <th>0</th>\n",
              "      <td>P040101001</td>\n",
              "      <td>4</td>\n",
              "      <td>401</td>\n",
              "      <td>40101</td>\n",
              "      <td>198.0</td>\n",
              "      <td>149.0</td>\n",
              "    </tr>\n",
              "    <tr>\n",
              "      <th>1</th>\n",
              "      <td>P040101002</td>\n",
              "      <td>4</td>\n",
              "      <td>401</td>\n",
              "      <td>40101</td>\n",
              "      <td>218.0</td>\n",
              "      <td>164.0</td>\n",
              "    </tr>\n",
              "    <tr>\n",
              "      <th>2</th>\n",
              "      <td>P040101003</td>\n",
              "      <td>4</td>\n",
              "      <td>401</td>\n",
              "      <td>40101</td>\n",
              "      <td>230.0</td>\n",
              "      <td>173.0</td>\n",
              "    </tr>\n",
              "    <tr>\n",
              "      <th>3</th>\n",
              "      <td>P040101004</td>\n",
              "      <td>4</td>\n",
              "      <td>401</td>\n",
              "      <td>40101</td>\n",
              "      <td>248.0</td>\n",
              "      <td>186.0</td>\n",
              "    </tr>\n",
              "    <tr>\n",
              "      <th>4</th>\n",
              "      <td>P040101005</td>\n",
              "      <td>4</td>\n",
              "      <td>401</td>\n",
              "      <td>40101</td>\n",
              "      <td>268.0</td>\n",
              "      <td>201.0</td>\n",
              "    </tr>\n",
              "    <tr>\n",
              "      <th>...</th>\n",
              "      <td>...</td>\n",
              "      <td>...</td>\n",
              "      <td>...</td>\n",
              "      <td>...</td>\n",
              "      <td>...</td>\n",
              "      <td>...</td>\n",
              "    </tr>\n",
              "    <tr>\n",
              "      <th>10025</th>\n",
              "      <td>P091503001</td>\n",
              "      <td>9</td>\n",
              "      <td>915</td>\n",
              "      <td>91503</td>\n",
              "      <td>280.0</td>\n",
              "      <td>210.0</td>\n",
              "    </tr>\n",
              "    <tr>\n",
              "      <th>10026</th>\n",
              "      <td>P091503002</td>\n",
              "      <td>9</td>\n",
              "      <td>915</td>\n",
              "      <td>91503</td>\n",
              "      <td>680.0</td>\n",
              "      <td>510.0</td>\n",
              "    </tr>\n",
              "    <tr>\n",
              "      <th>10027</th>\n",
              "      <td>P091503003</td>\n",
              "      <td>9</td>\n",
              "      <td>915</td>\n",
              "      <td>91503</td>\n",
              "      <td>1080.0</td>\n",
              "      <td>810.0</td>\n",
              "    </tr>\n",
              "    <tr>\n",
              "      <th>10028</th>\n",
              "      <td>P091503004</td>\n",
              "      <td>9</td>\n",
              "      <td>915</td>\n",
              "      <td>91503</td>\n",
              "      <td>1130.0</td>\n",
              "      <td>848.0</td>\n",
              "    </tr>\n",
              "    <tr>\n",
              "      <th>10029</th>\n",
              "      <td>P091503005</td>\n",
              "      <td>9</td>\n",
              "      <td>915</td>\n",
              "      <td>91503</td>\n",
              "      <td>1280.0</td>\n",
              "      <td>960.0</td>\n",
              "    </tr>\n",
              "  </tbody>\n",
              "</table>\n",
              "<p>10030 rows × 6 columns</p>\n",
              "</div>"
            ],
            "text/plain": [
              "       product_cd  category_major_cd  category_medium_cd  category_small_cd  \\\n",
              "0      P040101001                  4                 401              40101   \n",
              "1      P040101002                  4                 401              40101   \n",
              "2      P040101003                  4                 401              40101   \n",
              "3      P040101004                  4                 401              40101   \n",
              "4      P040101005                  4                 401              40101   \n",
              "...           ...                ...                 ...                ...   \n",
              "10025  P091503001                  9                 915              91503   \n",
              "10026  P091503002                  9                 915              91503   \n",
              "10027  P091503003                  9                 915              91503   \n",
              "10028  P091503004                  9                 915              91503   \n",
              "10029  P091503005                  9                 915              91503   \n",
              "\n",
              "       unit_price  unit_cost  \n",
              "0           198.0      149.0  \n",
              "1           218.0      164.0  \n",
              "2           230.0      173.0  \n",
              "3           248.0      186.0  \n",
              "4           268.0      201.0  \n",
              "...           ...        ...  \n",
              "10025       280.0      210.0  \n",
              "10026       680.0      510.0  \n",
              "10027      1080.0      810.0  \n",
              "10028      1130.0      848.0  \n",
              "10029      1280.0      960.0  \n",
              "\n",
              "[10030 rows x 6 columns]"
            ]
          },
          "execution_count": 16,
          "metadata": {},
          "output_type": "execute_result"
        }
      ],
      "source": [
        "df_product"
      ]
    },
    {
      "cell_type": "markdown",
      "metadata": {
        "id": "GtiO20ZKhhzu"
      },
      "source": [
        "---\n",
        "## 問11. 欠損値の穴埋め\n",
        "> P-081: 単価（unit_price）と原価（unit_cost）の欠損値について、それぞれの平均値で補完した新たなdf_product_2を作成せよ。なお、平均値について1円未満は四捨五入とせよ。補完実施後、各項目について欠損が生じていないことも確認すること。"
      ]
    },
    {
      "cell_type": "code",
      "execution_count": 17,
      "metadata": {
        "colab": {
          "base_uri": "https://localhost:8080/"
        },
        "id": "puFf-7Ewhhzu",
        "outputId": "c0ac56bc-10f6-4bce-b66f-1d20c654897c"
      },
      "outputs": [
        {
          "data": {
            "text/plain": [
              "product_cd            0\n",
              "category_major_cd     0\n",
              "category_medium_cd    0\n",
              "category_small_cd     0\n",
              "unit_price            0\n",
              "unit_cost             0\n",
              "dtype: int64"
            ]
          },
          "execution_count": 17,
          "metadata": {},
          "output_type": "execute_result"
        }
      ],
      "source": [
        "a = df_product[\"unit_price\"].mean()\n",
        "b = df_product[\"unit_cost\"].mean()\n",
        "df_product_2 = df_product.fillna({\"unit_price\": a , \"unit_cost\": b})\n",
        "df_product_2.isnull().sum()"
      ]
    }
  ],
  "metadata": {
    "colab": {
      "provenance": []
    },
    "kernelspec": {
      "display_name": "base",
      "language": "python",
      "name": "python3"
    },
    "language_info": {
      "codemirror_mode": {
        "name": "ipython",
        "version": 3
      },
      "file_extension": ".py",
      "mimetype": "text/x-python",
      "name": "python",
      "nbconvert_exporter": "python",
      "pygments_lexer": "ipython3",
      "version": "3.8.8"
    },
    "vscode": {
      "interpreter": {
        "hash": "3ec9d483ef029afaaa1555cdc7c3125f4dd504a3a5587b2ad3d73d03781d07a1"
      }
    }
  },
  "nbformat": 4,
  "nbformat_minor": 0
}
